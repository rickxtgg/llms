{
 "cells": [
  {
   "cell_type": "markdown",
   "metadata": {},
   "source": ["# 在Kaggle上运行LLMs训练项目\n",
    "本notebook提供了在Kaggle环境中运行LLMs训练项目的完整流程。\n",
    "## 1. 环境准备"]
  },
  {
   "cell_type": "code",
   "metadata": {},
   "source": ["!git clone https://github.com/your-username/llmscopy.git\n",
    "!cd llmscopy && pip install -r requirements.txt\n",
    "import os\n",
    "os.chdir('llmscopy')"]
  },
  {
   "cell_type": "markdown",
   "metadata": {},
   "source": ["## 2. 数据准备\n",
    "将训练数据上传到Kaggle Dataset或直接使用Kaggle上的公开数据集"]
  },
  {
   "cell_type": "code",
   "metadata": {},
   "source": ["# 设置数据路径\n",
    "TRAIN_DATA_PATH = '/kaggle/input/your-dataset/train.txt'\n",
    "VAL_DATA_PATH = '/kaggle/input/your-dataset/val.txt'"]
  },
  {
   "cell_type": "markdown",
   "metadata": {},
   "source": ["## 3. 修改配置\n",
    "根据Kaggle环境调整训练配置"]
  },
  {
   "cell_type": "code",
   "metadata": {},
   "source": ["from configs.model_config import get_small_config\n",
    "\n",
    "config = get_small_config()\n",
    "# 调整为Kaggle环境的路径\n",
    "config.train_file = TRAIN_DATA_PATH\n",
    "config.val_file = VAL_DATA_PATH\n",
    "config.output_dir = '/kaggle/working/checkpoints'\n",
    "\n",
    "# 根据Kaggle GPU调整训练参数\n",
    "config.batch_size = 32  # 根据GPU显存调整\n",
    "config.fp16 = True  # 启用混合精度训练"]
  },
  {
   "cell_type": "markdown",
   "metadata": {},
   "source": ["## 4. 开始训练"]
  },
  {
   "cell_type": "code",
   "metadata": {},
   "source": ["from scripts.train import main\n",
    "\n",
    "if __name__ == '__main__':\n",
    "    main()"]
  },
  {
   "cell_type": "markdown",
   "metadata": {},
   "source": ["## 5. 保存结果\n",
    "训练结果将保存在 `/kaggle/working/checkpoints` 目录下\n",
    "\n",
    "## 注意事项\n",
    "1. 确保Kaggle notebook设置中启用GPU\n",
    "2. 根据需要调整batch_size和其他训练参数\n",
    "3. 注意保存重要的checkpoint，因为Kaggle notebook重启后数据会丢失"]
  }
 ],
 "metadata": {
  "kernelspec": {
   "display_name": "Python 3",
   "language": "python",
   "name": "python3"
  },
  "accelerator": "GPU"
 },
 "nbformat": 4,
 "nbformat_minor": 4
}